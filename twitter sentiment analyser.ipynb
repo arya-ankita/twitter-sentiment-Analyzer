{
 "cells": [
  {
   "cell_type": "code",
   "execution_count": 1,
   "metadata": {},
   "outputs": [],
   "source": [
    "from textblob import TextBlob\n",
    "import tweepy\n",
    "import matplotlib.pyplot as plt"
   ]
  },
  {
   "cell_type": "code",
   "execution_count": 2,
   "metadata": {},
   "outputs": [],
   "source": [
    "def percentage(part, whole):\n",
    "    return 100 * float(part)/float(whole)"
   ]
  },
  {
   "cell_type": "code",
   "execution_count": 3,
   "metadata": {},
   "outputs": [
    {
     "name": "stdout",
     "output_type": "stream",
     "text": [
      "Enter keyword/hashtag to search about: bitcoin\n",
      "Enter how many tweets to analyze: 30\n",
      "How people are reacting on bitcoinby analyzing30Tweets.\n",
      "neutral\n"
     ]
    },
    {
     "data": {
      "image/png": "[encoded data removed]",
      "text/plain": [
       "<Figure size 432x288 with 1 Axes>"
      ]
     },
     "metadata": {},
     "output_type": "display_data"
    }
   ],
   "source": [
    "consumerKey = \"\"\n",
    "consumerSecret = \"\"\n",
    "accessToken = \"\"\n",
    "accessTokenSecret = \"\"\n",
    "\n",
    "auth = tweepy.OAuthHandler(consumerKey,consumerSecret)\n",
    "auth.set_access_token(accessToken, accessTokenSecret)\n",
    "api = tweepy.API(auth)\n",
    "\n",
    "searchTerm =      input(\"Enter keyword/hashtag to search about: \")\n",
    "noOfSearchTerms = int(input(\"Enter how many tweets to analyze: \"))\n",
    "\n",
    "tweets = tweepy.Cursor(api.search, q=searchTerm, lang=\"English\").items(noOfSearchTerms)\n",
    "\n",
    "positive = 0;\n",
    "negative = 0;\n",
    "neutral = 0;\n",
    "polarity= 0;\n",
    "\n",
    "for tweet in tweets:\n",
    "    #print(tweet.text)\n",
    "    analysis = TextBlob(tweet.text)\n",
    "    polarity += analysis.sentiment.polarity\n",
    "    \n",
    "    if(analysis.sentiment.polarity == 0):\n",
    "        neutral+= 1\n",
    "        \n",
    "    elif(analysis.sentiment.polarity < 0.00):\n",
    "        negative+= 1\n",
    "    elif(analysis.sentiment.polarity > 0.00):\n",
    "        positive+= 1 \n",
    "        \n",
    "positive = percentage(positive, noOfSearchTerms)\n",
    "negative = percentage(negative, noOfSearchTerms)\n",
    "neutral = percentage(neutral,noOfSearchTerms)\n",
    "\n",
    "\n",
    "positive = format(positive,'.2f')\n",
    "neutral = format(neutral,'.2f')\n",
    "negative = format(negative,'.2f')\n",
    "print(\"How people are reacting on \" + searchTerm + \"by analyzing\" + str(noOfSearchTerms) + \"Tweets.\")\n",
    "\n",
    "if(polarity == 0):\n",
    "   print(\"neutral\")\n",
    "    \n",
    "elif(polarity < 0):\n",
    "   print(\"Negative\")\n",
    "elif(polarity > 0):\n",
    "   print(\"Positive\")\n",
    "    \n",
    "\n",
    "labels = ['Positive ['+str(positive)+'%]', 'Neutral['+str(neutral) + '%]', 'Negative ['+ str(negative) + '%]']\n",
    "sizes = [positive, neutral, negative]\n",
    "colors = ['yellowgreen', 'gold', 'red']\n",
    "patches, texts = plt.pie(sizes, colors=colors, startangle=90)\n",
    "plt.legend(patches, labels, loc=\"best\")\n",
    "plt.title('How people are reacting on '+searchTerm+'by analyzing '+str(noOfSearchTerms)+' Tweets.')\n",
    "plt.axis('equal')\n",
    "plt.tight_layout()\n",
    "plt.show() \n",
    "\n",
    "\n"
   ]
  }
 ],
 "metadata": {
  "kernelspec": {
   "display_name": "Python 3",
   "language": "python",
   "name": "python3"
  },
  "language_info": {
   "codemirror_mode": {
    "name": "ipython",
    "version": 3
   },
   "file_extension": ".py",
   "mimetype": "text/x-python",
   "name": "python",
   "nbconvert_exporter": "python",
   "pygments_lexer": "ipython3",
   "version": "3.7.4"
  }
 },
 "nbformat": 4,
 "nbformat_minor": 2
}
